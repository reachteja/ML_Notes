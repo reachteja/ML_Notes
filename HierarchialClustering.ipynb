{
 "cells": [
  {
   "cell_type": "code",
   "execution_count": 1,
   "metadata": {
    "collapsed": true
   },
   "outputs": [],
   "source": [
    "import numpy as np \n",
    "import pandas as pd\n",
    "from scipy import ndimage \n",
    "from scipy.cluster import hierarchy \n",
    "from scipy.spatial import distance_matrix \n",
    "from matplotlib import pyplot as plt \n",
    "from sklearn import manifold, datasets \n",
    "from sklearn.cluster import AgglomerativeClustering \n",
    "from sklearn.datasets.samples_generator import make_blobs \n",
    "%matplotlib inline"
   ]
  },
  {
   "cell_type": "code",
   "execution_count": 2,
   "metadata": {
    "collapsed": true
   },
   "outputs": [],
   "source": [
    "X1, y1 = make_blobs(n_samples=50, centers=[[4,4], [-2, -1], [1, 1], [10,4]], cluster_std=0.9)"
   ]
  },
  {
   "cell_type": "code",
   "execution_count": 3,
   "metadata": {},
   "outputs": [
    {
     "data": {
      "text/plain": [
       "<matplotlib.collections.PathCollection at 0x2735c001f60>"
      ]
     },
     "execution_count": 3,
     "metadata": {},
     "output_type": "execute_result"
    },
    {
     "data": {
      "image/png": "[encoded data removed]",
      "text/plain": [
       "<Figure size 432x288 with 1 Axes>"
      ]
     },
     "metadata": {
      "needs_background": "light"
     },
     "output_type": "display_data"
    }
   ],
   "source": [
    "plt.scatter(X1[:, 0], X1[:, 1], marker='o') "
   ]
  },
  {
   "cell_type": "code",
   "execution_count": 6,
   "metadata": {
    "collapsed": true
   },
   "outputs": [],
   "source": [
    "agglom = AgglomerativeClustering(n_clusters=4,linkage='average')"
   ]
  },
  {
   "cell_type": "code",
   "execution_count": 7,
   "metadata": {
    "collapsed": true
   },
   "outputs": [
    {
     "data": {
      "text/plain": [
       "AgglomerativeClustering(affinity='euclidean', compute_full_tree='auto',\n",
       "            connectivity=None, linkage='average', memory=None,\n",
       "            n_clusters=4, pooling_func='deprecated')"
      ]
     },
     "execution_count": 7,
     "metadata": {},
     "output_type": "execute_result"
    }
   ],
   "source": [
    "agglom.fit(X1)"
   ]
  },
  {
   "cell_type": "code",
   "execution_count": 9,
   "metadata": {},
   "outputs": [
    {
     "data": {
      "text/plain": [
       "array([[ 0.        ,  3.52601237,  4.67201994, ...,  7.11202861,\n",
       "         6.84996162, 13.22491945],\n",
       "       [ 3.52601237,  0.        ,  2.28831829, ...,  3.87868769,\n",
       "         3.48927378, 10.22943922],\n",
       "       [ 4.67201994,  2.28831829,  0.        , ...,  2.68989511,\n",
       "         2.67887185,  8.55343694],\n",
       "       ...,\n",
       "       [ 7.11202861,  3.87868769,  2.68989511, ...,  0.        ,\n",
       "         0.61585071,  6.36877211],\n",
       "       [ 6.84996162,  3.48927378,  2.67887185, ...,  0.61585071,\n",
       "         0.        ,  6.85100865],\n",
       "       [13.22491945, 10.22943922,  8.55343694, ...,  6.36877211,\n",
       "         6.85100865,  0.        ]])"
      ]
     },
     "execution_count": 9,
     "metadata": {},
     "output_type": "execute_result"
    }
   ],
   "source": [
    "dist_matrix = distance_matrix(X1,X1)\n",
    "dist_matrix"
   ]
  },
  {
   "cell_type": "code",
   "execution_count": 10,
   "metadata": {
    "scrolled": true
   },
   "outputs": [
    {
     "name": "stderr",
     "output_type": "stream",
     "text": [
      "C:\\Users\\dheer\\Anaconda3\\lib\\site-packages\\ipykernel_launcher.py:1: ClusterWarning: scipy.cluster: The symmetric non-negative hollow observation matrix looks suspiciously like an uncondensed distance matrix\n",
      "  \"\"\"Entry point for launching an IPython kernel.\n"
     ]
    },
    {
     "data": {
      "text/plain": [
       "array([[29.        , 32.        ,  0.3102558 ,  2.        ],\n",
       "       [33.        , 40.        ,  0.84901042,  2.        ],\n",
       "       [ 7.        , 10.        ,  0.9755269 ,  2.        ],\n",
       "       [24.        , 28.        ,  1.07538701,  2.        ],\n",
       "       [15.        , 17.        ,  1.12322536,  2.        ],\n",
       "       [36.        , 44.        ,  1.12566723,  2.        ],\n",
       "       [48.        , 55.        ,  1.1762995 ,  3.        ],\n",
       "       [39.        , 51.        ,  1.23991128,  3.        ],\n",
       "       [16.        , 49.        ,  1.26256232,  2.        ],\n",
       "       [ 6.        , 35.        ,  1.37999645,  2.        ],\n",
       "       [ 1.        , 20.        ,  1.39932401,  2.        ],\n",
       "       [31.        , 37.        ,  1.44894113,  2.        ],\n",
       "       [ 8.        , 22.        ,  1.46145213,  2.        ],\n",
       "       [23.        , 52.        ,  1.48609118,  3.        ],\n",
       "       [21.        , 34.        ,  1.53490126,  2.        ],\n",
       "       [ 4.        , 41.        ,  1.61902118,  2.        ],\n",
       "       [13.        , 53.        ,  1.77025794,  3.        ],\n",
       "       [14.        , 54.        ,  1.80779216,  3.        ],\n",
       "       [56.        , 63.        ,  1.9302012 ,  6.        ],\n",
       "       [46.        , 59.        ,  1.98250501,  3.        ],\n",
       "       [42.        , 61.        ,  1.98550202,  3.        ],\n",
       "       [25.        , 64.        ,  2.05101194,  3.        ],\n",
       "       [43.        , 45.        ,  2.10429422,  2.        ],\n",
       "       [ 2.        , 19.        ,  2.23692857,  2.        ],\n",
       "       [ 0.        ,  3.        ,  2.29805731,  2.        ],\n",
       "       [30.        , 65.        ,  2.47903334,  3.        ],\n",
       "       [47.        , 68.        ,  2.63753843,  7.        ],\n",
       "       [58.        , 66.        ,  2.83940403,  5.        ],\n",
       "       [57.        , 77.        ,  2.840222  ,  8.        ],\n",
       "       [69.        , 73.        ,  2.90599284,  5.        ],\n",
       "       [12.        , 38.        ,  2.91435658,  2.        ],\n",
       "       [18.        , 72.        ,  3.16224829,  3.        ],\n",
       "       [67.        , 80.        ,  3.75582412,  5.        ],\n",
       "       [50.        , 62.        ,  3.75732947,  4.        ],\n",
       "       [74.        , 83.        ,  3.75821485,  6.        ],\n",
       "       [75.        , 78.        ,  3.95342275, 11.        ],\n",
       "       [81.        , 84.        ,  4.06025052,  9.        ],\n",
       "       [76.        , 82.        ,  4.13562206, 12.        ],\n",
       "       [26.        , 85.        ,  4.21414107, 12.        ],\n",
       "       [70.        , 86.        ,  4.31653778, 12.        ],\n",
       "       [60.        , 71.        ,  4.59776503,  5.        ],\n",
       "       [79.        , 90.        ,  4.99224588, 10.        ],\n",
       "       [ 9.        , 87.        ,  5.45857134, 13.        ],\n",
       "       [27.        , 91.        ,  5.61940269, 11.        ],\n",
       "       [ 5.        , 11.        ,  6.26618793,  2.        ],\n",
       "       [93.        , 94.        ,  6.49681717, 13.        ],\n",
       "       [89.        , 95.        ,  6.81135057, 25.        ],\n",
       "       [92.        , 96.        , 12.44349774, 38.        ],\n",
       "       [88.        , 97.        , 28.8619449 , 50.        ]])"
      ]
     },
     "execution_count": 10,
     "metadata": {},
     "output_type": "execute_result"
    }
   ],
   "source": [
    "Z = hierarchy.linkage(dist_matrix,'single')\n",
    "Z"
   ]
  },
  {
   "cell_type": "code",
   "execution_count": 11,
   "metadata": {},
   "outputs": [
    {
     "data": {
      "image/png": "[encoded data removed]",
      "text/plain": [
       "<Figure size 432x288 with 1 Axes>"
      ]
     },
     "metadata": {
      "needs_background": "light"
     },
     "output_type": "display_data"
    }
   ],
   "source": [
    "dendro = hierarchy.dendrogram(Z)"
   ]
  },
  {
   "cell_type": "code",
   "execution_count": null,
   "metadata": {
    "collapsed": true
   },
   "outputs": [],
   "source": []
  },
  {
   "cell_type": "code",
   "execution_count": null,
   "metadata": {
    "collapsed": true
   },
   "outputs": [],
   "source": []
  },
  {
   "cell_type": "code",
   "execution_count": null,
   "metadata": {
    "collapsed": true
   },
   "outputs": [],
   "source": []
  },
  {
   "cell_type": "code",
   "execution_count": null,
   "metadata": {
    "collapsed": true
   },
   "outputs": [],
   "source": []
  },
  {
   "cell_type": "code",
   "execution_count": null,
   "metadata": {
    "collapsed": true
   },
   "outputs": [],
   "source": []
  },
  {
   "cell_type": "code",
   "execution_count": null,
   "metadata": {
    "collapsed": true
   },
   "outputs": [],
   "source": []
  }
 ],
 "metadata": {
  "kernelspec": {
   "display_name": "Python 3",
   "language": "python",
   "name": "python3"
  },
  "language_info": {
   "codemirror_mode": {
    "name": "ipython",
    "version": 3
   },
   "file_extension": ".py",
   "mimetype": "text/x-python",
   "name": "python",
   "nbconvert_exporter": "python",
   "pygments_lexer": "ipython3",
   "version": "3.7.3"
  }
 },
 "nbformat": 4,
 "nbformat_minor": 2
}
